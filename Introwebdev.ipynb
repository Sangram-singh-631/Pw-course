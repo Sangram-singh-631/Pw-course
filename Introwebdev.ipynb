{
  "nbformat": 4,
  "nbformat_minor": 0,
  "metadata": {
    "colab": {
      "provenance": []
    },
    "kernelspec": {
      "name": "python3",
      "display_name": "Python 3"
    },
    "language_info": {
      "name": "python"
    }
  },
  "cells": [
    {
      "cell_type": "code",
      "execution_count": null,
      "metadata": {
        "id": "5q7NQBU5qeE9"
      },
      "outputs": [],
      "source": []
    },
    {
      "cell_type": "markdown",
      "source": [
        " # Introduction to Web Development.\n",
        "\n",
        " 1. Explain the main components of client-server architecture and their functions?\n",
        "  - Client can be the software using which user can interact with the software or any software capable of initiating a request.\n",
        "  - Server can be any machine or a process running on any machine that is capable of accepting request process them and send response.\n",
        "  - Client-server Architecture gives us the basic understanding on how a client and a server is going to communicate.\n",
        "  - Process is a program in running phase.\n",
        "  *How it works*\n",
        "  - Client sends a request to the server, then server collects the request, process the request and sends reponse to the client.\n",
        "\n",
        " 2. Discuss the various career paths available after completing a web development course.\n",
        "  - The various career paths which are available after completing the web development course are as follows :-   \n",
        "  - One can work as a dedicated front-end developer in which we have to take care of things with which the user will interact.\n",
        "  - One can work as a dedicated back-end developer in which on the logic behind the application how a request should be processed , entered input is valid or not , whether the service can be served or not , where the data will be stored.\n",
        "  - One can work as a full stack developer in which he/she will have to deal with both front-end and back-end. There is a very high demand of full stack developer as it is also affordable for the companies also .\n",
        "  -Project Manager - One can manage a team of developers working on a project.find the project requirements, select team , do feasability analysis, get to the result in available time.\n",
        "  \n",
        "3. Describe the role of a web browser's developer tools in web development?\n",
        "  - Supporting various standards - the web page must behave and render almost the same in all modern browsers for a uniform user experience.\n",
        "  - Making live changes - the various JS code and CSS attributes can be changed in browser itself using the Devtools.\n",
        "  - Devtools - Most modern wev browser provide various set of tools , Which are  called Devtools, used to inspect,  modify ,or test the page to debug the website or increase accessibility or performance.\n",
        "\n",
        "4. What are the advantages of using a Version Control System like Git in a development project ?\n",
        "  - Version control systems are a category of software tools that helps in recording changes made to files by keeping track  of the modifications done in code.\n",
        "\n",
        "  Advantages of Version Control Systems -\n",
        "  - Enhances the project development speed by providing eficient collaboration.\n",
        "  - Reduce possibility of errors and conflicts through traceabilityCompare and contrast a text editor and an IDE, highlighting their key features and uses to every small change.\n",
        "  - Contributers of the project can contribute from anywhere.\n",
        "  - Working in group.\n",
        "  - Maintains a copy of work.\n",
        "  - A repository is maintained ( a database  of changes ).\n",
        "  \n",
        "5. Compare and contrast a text editor and an IDE, highlighting their key features and uses .\n",
        "  - The primary purpose of the IDE(Integrated Development Environment)\n",
        "is to provide full-featured development environment with coding, building, testing and debugging unit.And whereas the primary purpose of the text editor is to provide basic tools for writing and editing plain text or code.\n",
        "  - Resorce usage of IDE is as compared to text editor because IDE have advanced feature which require more resources.\n",
        "  - Built in support for compiling and debugging code in IDE but not in text editor.\n",
        "  - IDE is little bit complex to learn as compared to text editor because IDE have a vast range of features.\n",
        "  - Text editor does not provide any Project management tools to manage multople files, libraries and dependencies.\n",
        "\n",
        "\n",
        "\n",
        "\n"
      ],
      "metadata": {
        "id": "qU3SS4kr7UGL"
      }
    }
  ]
}