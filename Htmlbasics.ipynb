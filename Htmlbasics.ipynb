{
  "nbformat": 4,
  "nbformat_minor": 0,
  "metadata": {
    "colab": {
      "provenance": []
    },
    "kernelspec": {
      "name": "python3",
      "display_name": "Python 3"
    },
    "language_info": {
      "name": "python"
    }
  },
  "cells": [
    {
      "cell_type": "markdown",
      "source": [
        "1. Write a simple program in HTML  that displays the heading \"HTML defines the content and structure of\n",
        "your website” on the web browser .\n",
        " -"
      ],
      "metadata": {
        "id": "BpsOIM7K_vlb"
      }
    },
    {
      "cell_type": "code",
      "execution_count": 2,
      "metadata": {
        "colab": {
          "base_uri": "https://localhost:8080/",
          "height": 106
        },
        "id": "N_pOw9w5-qVx",
        "outputId": "394c2abe-5563-4b00-aa01-f55e3ea8b93d"
      },
      "outputs": [
        {
          "output_type": "error",
          "ename": "SyntaxError",
          "evalue": "invalid syntax (<ipython-input-2-63999bed75cf>, line 1)",
          "traceback": [
            "\u001b[0;36m  File \u001b[0;32m\"<ipython-input-2-63999bed75cf>\"\u001b[0;36m, line \u001b[0;32m1\u001b[0m\n\u001b[0;31m    <!DOCTYPE html>\u001b[0m\n\u001b[0m    ^\u001b[0m\n\u001b[0;31mSyntaxError\u001b[0m\u001b[0;31m:\u001b[0m invalid syntax\n"
          ]
        }
      ],
      "source": [
        "<!DOCTYPE html>\n",
        "<html lang=\"en\">\n",
        "<head>\n",
        "    <meta charset=\"UTF-8\">\n",
        "    <meta name=\"viewport\" content=\"width=device-width, initial-scale=1.0\">\n",
        "    <title>Document</title>\n",
        "</head>\n",
        "<body>\n",
        "    <h1>HTML defines the content and structure of\n",
        "        your website on the web browser.</h1>\n",
        "</body>\n",
        "</html>"
      ]
    },
    {
      "cell_type": "markdown",
      "source": [
        "2. Explain the purpose of comments in HTML and provide an example of how to use comments in an HTML\n",
        "document.\n",
        " -  The purpose of comments in HTML is to provide details or the meaning of the\n",
        " underlying code so that the team of developer is viewing the code can understand the code easily by the help of comments. Comments do not get executed.The user is not able to see the comment on the webpage.\n",
        "\n",
        "   -  Example of comment-\n",
        "   <exclamatory mark-- This is an example of comment. -->\n",
        "   not able to give proper example because google colab is also taking it as a comment.\n",
        "\n",
        "3. Write an HTML program that includes a heading, a paragraph of text, a horizontal line, and a line break.\n",
        "Arrange these elements to create a simple web page layout ?"
      ],
      "metadata": {
        "id": "qOP_RjBtAAHK"
      }
    },
    {
      "cell_type": "code",
      "source": [],
      "metadata": {
        "id": "YcR_yhE6518d"
      },
      "execution_count": null,
      "outputs": []
    },
    {
      "cell_type": "markdown",
      "source": [
        "4. Write a short note on Tag and element with an example ?\n",
        " - **Tag**- HTML tags are starting and ending part of an HTML element. They begin with < symbol and end with > symbol whatever written inside < and > are called tags.\n",
        "  - **Example**- < p >< /p >  in this example < p > is starting tag and < /p > is the ending tag.\n",
        "  - **Element**- The HTML elements consists of Starting tag <, ending tag </p> as well as the content between them.\n",
        "  - **Example**- < p > This is  the content < /p >.\n",
        "\n",
        "5. What is the DOCTYPE Declaration in HTML ?\n",
        " - HTML DOCTYPE (Document Type Declaration) is an instruction that appears at the beginning of an HTML document, before the <html> tag.\n",
        "\n",
        " - Its primary role is to tell the web browser which version of HTML the page is written in, ensuring that the browser renders the content correctly. It is not an HTML tag, but rather a special instruction that specifies how the browser should interpret the HTML.\n"
      ],
      "metadata": {
        "id": "4roSi4xQ53ZC"
      }
    }
  ]
}