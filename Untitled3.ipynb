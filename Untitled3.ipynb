{
  "nbformat": 4,
  "nbformat_minor": 0,
  "metadata": {
    "colab": {
      "provenance": []
    },
    "kernelspec": {
      "name": "python3",
      "display_name": "Python 3"
    },
    "language_info": {
      "name": "python"
    }
  },
  "cells": [
    {
      "cell_type": "markdown",
      "source": [
        "Problem Statement\n",
        "  Write code to position 5 equal-sized (50 X 50px) boxes A, B, C, D, and E as  lowsC\n",
        "\u001aH box A 200px from the left, and 200px from the top of the viewportH\n",
        "0H box B -30px left, and -30px above from the center of box AH\n",
        "MH box B -30px right, and -30px above from the center of box AH\n",
        "\u0016H box B -30px left, and -30px below from the center of box AH\n",
        "4H box B -30px right, and -30px below from the center of box A."
      ],
      "metadata": {
        "id": "SGFtZRXP77ik"
      }
    },
    {
      "cell_type": "code",
      "source": [
        "<!DOCTYPE html>\n",
        "<html lang=\"en\">\n",
        "<head>\n",
        "<meta charset=\"UTF-8\">\n",
        "<meta name=\"viewport\" content=\"width=device-width, initial-scale=1.0\">\n",
        "<title>Position Boxes</title>\n",
        "<style>\n",
        "  .box {\n",
        "    width: 50px;\n",
        "    height: 50px;\n",
        "    position: absolute;\n",
        "    background-color: aquamarine;\n",
        "    text-align: center;\n",
        "    line-height: 50px;\n",
        "    font-weight: bold;\n",
        "  }\n",
        "\n",
        "  /* Box A */\n",
        "  #A {\n",
        "    left: 200px;\n",
        "    top: 200px;\n",
        "    background-color: aquamarine;\n",
        "  }\n",
        "\n",
        "  /* Box B: left & above center of A */\n",
        "  #B {\n",
        "    left: calc(200px - 30px);\n",
        "    top: calc(200px + 25px - 30px - 25px);\n",
        "  }\n",
        "\n",
        "  /* Box C: right & above center of A */\n",
        "  #C {\n",
        "    left: calc(200px + 30px);\n",
        "    top: calc(200px + 25px - 30px - 25px);\n",
        "  }\n",
        "\n",
        "  /* Box D: left & below center of A */\n",
        "  #D {\n",
        "    left: calc(200px - 30px);\n",
        "    top: calc(200px + 25px + 30px - 25px);\n",
        "  }\n",
        "\n",
        "  /* Box E: right & below center of A */\n",
        "  #E {\n",
        "    left: calc(200px + 30px);\n",
        "    top: calc(200px + 25px + 30px - 25px);\n",
        "  }\n",
        "</style>\n",
        "</head>\n",
        "<body>\n",
        "\n",
        "<div class=\"box\" id=\"A\">A</div>\n",
        "<div class=\"box\" id=\"B\">B</div>\n",
        "<div class=\"box\" id=\"C\">C</div>\n",
        "<div class=\"box\" id=\"D\">D</div>\n",
        "<div class=\"box\" id=\"E\">E</div>\n",
        "\n",
        "</body>\n",
        "</html>\n"
      ],
      "metadata": {
        "id": "NOgTXsLl8Bk_"
      },
      "execution_count": null,
      "outputs": []
    },
    {
      "cell_type": "markdown",
      "source": [
        "2. Problem Statement\n",
        "\n",
        "Explain the difference between Absolute and Relative positioning."
      ],
      "metadata": {
        "id": "yMnhDhS3BhgS"
      }
    },
    {
      "cell_type": "code",
      "source": [
        "Difference between Absolute and Relative Positioning in CSS:\n",
        "\n",
        "position: relative — Positions the element relative to its normal position. It stays in the document flow, and other elements don’t move.\n",
        "\n",
        "position: absolute — Positions the element relative to the nearest positioned ancestor. It is removed from the document flow, and other elements ignore it."
      ],
      "metadata": {
        "id": "jP5LqIONCiEi"
      },
      "execution_count": null,
      "outputs": []
    },
    {
      "cell_type": "markdown",
      "source": [
        "3. Problem Statement\n",
        "\n",
        "Create a card as shown in the picture below. (You can use CSS float property only for layout)."
      ],
      "metadata": {
        "id": "lOaSj4rUCtqe"
      }
    },
    {
      "cell_type": "code",
      "source": [
        "<!DOCTYPE html>\n",
        "<html lang=\"en\">\n",
        "<head>\n",
        "<meta charset=\"UTF-8\">\n",
        "<meta name=\"viewport\" content=\"width=device-width, initial-scale=1.0\">\n",
        "<title>Card Layout</title>\n",
        "<link rel=\"stylesheet\" href=\"1.css\">\n",
        "</head>\n",
        "<body>\n",
        "\n",
        "<div class=\"card\">\n",
        "  <div class=\"card-text\">\n",
        "    <h3>The Earth!!!</h3>\n",
        "    <p>\n",
        "      Nature is Earth's masterpiece, a symphony of life composed through millennia.\n",
        "      Its landscapes whisper tales of ancient mountains, winding rivers, and flourishing forests,\n",
        "      reminding us of the planet's boundless beauty. From delicate petals to towering redwoods,\n",
        "      nature's artistry stirs awe and reconnects us to the essence of existence.\n",
        "      Nature is Earth's masterpiece, a symphony of life composed through millennia.\n",
        "      Its landscapes whisper tales of ancient mountains, winding rivers, and flourishing forests.\n",
        "    </p>\n",
        "  </div>\n",
        "  <div class=\"card-img\">\n",
        "    <img src=\"https://static.vecteezy.com/system/resources/thumbnails/027/152/722/small_2x/computer-futuristic-high-tech-circuit-board-with-microcircuits-and-electronic-chips-with-transistors-and-resistors-ai-generated-free-photo.jpg\" alt=\"Earth\">\n",
        "  </div>\n",
        "</div>\n",
        "\n",
        "</body>\n",
        "</html>\n",
        "\n"
      ],
      "metadata": {
        "id": "svSr6Q7nDJbp"
      },
      "execution_count": null,
      "outputs": []
    },
    {
      "cell_type": "markdown",
      "source": [
        "CSS code is mentioned below."
      ],
      "metadata": {
        "id": "rbZ65EHsF3Y_"
      }
    },
    {
      "cell_type": "code",
      "source": [
        "body {\n",
        "  font-family: Arial, sans-serif;\n",
        "}\n",
        "\n",
        ".card {\n",
        "  border: 2px solid black;\n",
        "  background-color: #f9f7d9;\n",
        "  padding: 10px;\n",
        "  width: 700px;\n",
        "  margin: 20px auto;\n",
        "  overflow: hidden;\n",
        "}\n",
        "\n",
        ".card-text {\n",
        "  float: left;\n",
        "  width: 70%;\n",
        "}\n",
        "\n",
        ".card-text h3 {\n",
        "  font-weight: bold;\n",
        "}\n",
        "\n",
        ".card-img {\n",
        "  float: right;\n",
        "  width: 28%;\n",
        "}\n",
        "\n",
        ".card-img img {\n",
        "  width: 100%;\n",
        "  height: auto;\n",
        "  position: relative;\n",
        "  height: 200px;\n",
        "  width: 200px;\n",
        "}\n"
      ],
      "metadata": {
        "id": "btKG88c7F8Sg"
      },
      "execution_count": null,
      "outputs": []
    },
    {
      "cell_type": "markdown",
      "source": [
        "4. Problem Statement\n",
        "\n",
        "Create a simple header that sticks to the top of a webpage upon scrolling."
      ],
      "metadata": {
        "id": "GTdLw85MGGS2"
      }
    },
    {
      "cell_type": "code",
      "source": [
        "<!DOCTYPE html>\n",
        "<html lang=\"en\">\n",
        "<head>\n",
        "<meta charset=\"UTF-8\">\n",
        "<meta name=\"viewport\" content=\"width=device-width, initial-scale=1.0\">\n",
        "<title>Sticky Header</title>\n",
        "<link rel=\"stylesheet\" href=\"1.css\">\n",
        "</head>\n",
        "<body>\n",
        "\n",
        "<header>\n",
        "  <div class=\"logo\">LOGO</div>\n",
        "  <nav>\n",
        "    <a href=\"#\">Home</a>\n",
        "    <a href=\"#\">Pricing</a>\n",
        "    <a href=\"#\">Contact</a>\n",
        "    <a href=\"#\">Terms and Condition</a>\n",
        "    <a href=\"#\" class=\"btn\">Get Started</a>\n",
        "  </nav>\n",
        "</header>\n",
        "\n",
        "<div class=\"content\">\n",
        "  <h2>Heading 2</h2>\n",
        "  <p>Lorem ipsum dolor sit amet consectetur adipisicing elit. Ipsum possimus modi magni deleniti rerum provident minima...</p>\n",
        "  <h3>Heading 3</h3>\n",
        "  <p>Lorem ipsum dolor sit amet consectetur adipisicing elit. Ipsum possimus modi magni deleniti rerum provident minima...</p>\n",
        "  <p>Lorem ipsum dolor sit amet consectetur adipisicing elit. Ipsum possimus modi magni deleniti rerum provident minima...</p>\n",
        "</div>\n",
        "\n",
        "</body>\n",
        "</html>\n"
      ],
      "metadata": {
        "id": "xY3aPVZUHEWl"
      },
      "execution_count": null,
      "outputs": []
    },
    {
      "cell_type": "markdown",
      "source": [
        "CSS code mentioned below."
      ],
      "metadata": {
        "id": "kO2r_RCvIALE"
      }
    },
    {
      "cell_type": "code",
      "source": [
        "body {\n",
        "  margin: 0;\n",
        "  font-family: Arial, sans-serif;\n",
        "}\n",
        "\n",
        "header {\n",
        "  position: sticky;\n",
        "  top: 0;\n",
        "  background-color: #222;\n",
        "  color: white;\n",
        "  display: flex;\n",
        "  justify-content: space-between;\n",
        "  align-items: center;\n",
        "  padding: 10px 30px;\n",
        "  z-index: 1000;\n",
        "}\n",
        "\n",
        "header .logo {\n",
        "  font-weight: bold;\n",
        "  font-size: 18px;\n",
        "}\n",
        "\n",
        "nav a {\n",
        "  color: white;\n",
        "  text-decoration: none;\n",
        "  margin: 0 10px;\n",
        "}\n",
        "\n",
        "nav a.btn {\n",
        "  background-color: #f4d35e;\n",
        "  color: black;\n",
        "  padding: 5px 10px;\n",
        "  border-radius: 4px;\n",
        "}\n",
        "\n",
        ".content {\n",
        "  padding: 20px;\n",
        "}\n",
        "\n",
        ".content h2, .content h3 {\n",
        "  margin-top: 30px;\n",
        "}\n"
      ],
      "metadata": {
        "id": "DjgMQICIIEsZ"
      },
      "execution_count": null,
      "outputs": []
    },
    {
      "cell_type": "markdown",
      "source": [
        "5. Explain the z-index, with a code example.\n"
      ],
      "metadata": {
        "id": "FlO1zsyIJSF6"
      }
    },
    {
      "cell_type": "markdown",
      "source": [
        "The z-index property in CSS controls the stacking order of elements along the z-axis (i.e., which element appears “on top” of others when they overlap).\n",
        "\n",
        "Elements with a higher z-index value appear in front of elements with a lower value.\n",
        "\n",
        "Only works on elements with a position other than static (e.g., relative, absolute, fixed, sticky).\n",
        "\n"
      ],
      "metadata": {
        "id": "CEeHj6i3JhXt"
      }
    },
    {
      "cell_type": "code",
      "source": [
        "<!DOCTYPE html>\n",
        "<html lang=\"en\">\n",
        "<head>\n",
        "<meta charset=\"UTF-8\">\n",
        "<meta name=\"viewport\" content=\"width=device-width, initial-scale=1.0\">\n",
        "<title>z-index Example</title>\n",
        "<style>\n",
        "  .box {\n",
        "    width: 150px;\n",
        "    height: 150px;\n",
        "    position: absolute;\n",
        "    top: 50px;\n",
        "    left:\n"
      ],
      "metadata": {
        "id": "SoCPSqnHJqU2"
      },
      "execution_count": null,
      "outputs": []
    }
  ]
}